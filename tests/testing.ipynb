{
 "cells": [
  {
   "cell_type": "code",
   "execution_count": 1,
   "metadata": {},
   "outputs": [
    {
     "ename": "ImportError",
     "evalue": "cannot import name 'Folder' from partially initialized module 'orchestrator.orchestrator' (most likely due to a circular import) (/Users/alvaro/Dev/python/orchestrator-py/src/orchestrator/orchestrator.py)",
     "output_type": "error",
     "traceback": [
      "\u001b[0;31m---------------------------------------------------------------------------\u001b[0m",
      "\u001b[0;31mImportError\u001b[0m                               Traceback (most recent call last)",
      "\u001b[1;32m/Users/alvaro/Dev/python/orchestrator-py/tests/testing.ipynb Cell 1'\u001b[0m in \u001b[0;36m<cell line: 1>\u001b[0;34m()\u001b[0m\n\u001b[0;32m----> <a href='vscode-notebook-cell:/Users/alvaro/Dev/python/orchestrator-py/tests/testing.ipynb#ch0000000?line=0'>1</a>\u001b[0m \u001b[39mfrom\u001b[39;00m \u001b[39morchestrator\u001b[39;00m\u001b[39m.\u001b[39;00m\u001b[39morchestrator\u001b[39;00m \u001b[39mimport\u001b[39;00m Orchestrator, OrchestratorHTTP\n\u001b[1;32m      <a href='vscode-notebook-cell:/Users/alvaro/Dev/python/orchestrator-py/tests/testing.ipynb#ch0000000?line=1'>2</a>\u001b[0m \u001b[39mfrom\u001b[39;00m \u001b[39mdotenv\u001b[39;00m \u001b[39mimport\u001b[39;00m load_dotenv\n\u001b[1;32m      <a href='vscode-notebook-cell:/Users/alvaro/Dev/python/orchestrator-py/tests/testing.ipynb#ch0000000?line=2'>3</a>\u001b[0m \u001b[39mimport\u001b[39;00m \u001b[39mos\u001b[39;00m\n",
      "File \u001b[0;32m~/Dev/python/orchestrator-py/src/orchestrator/orchestrator.py:4\u001b[0m, in \u001b[0;36m<module>\u001b[0;34m\u001b[0m\n\u001b[1;32m      <a href='file:///Users/alvaro/Dev/python/orchestrator-py/src/orchestrator/orchestrator.py?line=1'>2</a>\u001b[0m \u001b[39mimport\u001b[39;00m \u001b[39mrequests\u001b[39;00m\n\u001b[1;32m      <a href='file:///Users/alvaro/Dev/python/orchestrator-py/src/orchestrator/orchestrator.py?line=2'>3</a>\u001b[0m \u001b[39mfrom\u001b[39;00m \u001b[39murllib\u001b[39;00m\u001b[39m.\u001b[39;00m\u001b[39mparse\u001b[39;00m \u001b[39mimport\u001b[39;00m urlencode\n\u001b[0;32m----> <a href='file:///Users/alvaro/Dev/python/orchestrator-py/src/orchestrator/orchestrator.py?line=3'>4</a>\u001b[0m \u001b[39mfrom\u001b[39;00m \u001b[39morchestrator\u001b[39;00m\u001b[39m.\u001b[39;00m\u001b[39morchestrator_folder\u001b[39;00m \u001b[39mimport\u001b[39;00m Folder\n\u001b[1;32m      <a href='file:///Users/alvaro/Dev/python/orchestrator-py/src/orchestrator/orchestrator.py?line=6'>7</a>\u001b[0m \u001b[39mclass\u001b[39;00m \u001b[39mOrchestrator\u001b[39;00m(OrchestratorHTTP):\n\u001b[1;32m      <a href='file:///Users/alvaro/Dev/python/orchestrator-py/src/orchestrator/orchestrator.py?line=7'>8</a>\u001b[0m     \u001b[39mdef\u001b[39;00m \u001b[39m__init__\u001b[39m(\n\u001b[1;32m      <a href='file:///Users/alvaro/Dev/python/orchestrator-py/src/orchestrator/orchestrator.py?line=8'>9</a>\u001b[0m         \u001b[39mself\u001b[39m,\n\u001b[1;32m     <a href='file:///Users/alvaro/Dev/python/orchestrator-py/src/orchestrator/orchestrator.py?line=9'>10</a>\u001b[0m         client_id,\n\u001b[0;32m   (...)\u001b[0m\n\u001b[1;32m     <a href='file:///Users/alvaro/Dev/python/orchestrator-py/src/orchestrator/orchestrator.py?line=14'>15</a>\u001b[0m \n\u001b[1;32m     <a href='file:///Users/alvaro/Dev/python/orchestrator-py/src/orchestrator/orchestrator.py?line=15'>16</a>\u001b[0m     ):\n",
      "File \u001b[0;32m~/Dev/python/orchestrator-py/src/orchestrator/orchestrator_folder.py:2\u001b[0m, in \u001b[0;36m<module>\u001b[0;34m\u001b[0m\n\u001b[1;32m      <a href='file:///Users/alvaro/Dev/python/orchestrator-py/src/orchestrator/orchestrator_folder.py?line=0'>1</a>\u001b[0m \u001b[39mfrom\u001b[39;00m \u001b[39morchestrator\u001b[39;00m\u001b[39m.\u001b[39;00m\u001b[39morchestrator_http\u001b[39;00m \u001b[39mimport\u001b[39;00m OrchestratorHTTP\n\u001b[0;32m----> <a href='file:///Users/alvaro/Dev/python/orchestrator-py/src/orchestrator/orchestrator_folder.py?line=1'>2</a>\u001b[0m \u001b[39mfrom\u001b[39;00m \u001b[39morchestrator\u001b[39;00m\u001b[39m.\u001b[39;00m\u001b[39morchestrator_asset\u001b[39;00m \u001b[39mimport\u001b[39;00m Asset\n\u001b[1;32m      <a href='file:///Users/alvaro/Dev/python/orchestrator-py/src/orchestrator/orchestrator_folder.py?line=2'>3</a>\u001b[0m \u001b[39mfrom\u001b[39;00m \u001b[39morchestrator\u001b[39;00m\u001b[39m.\u001b[39;00m\u001b[39morchestrator_queue\u001b[39;00m \u001b[39mimport\u001b[39;00m Queue\n\u001b[1;32m      <a href='file:///Users/alvaro/Dev/python/orchestrator-py/src/orchestrator/orchestrator_folder.py?line=3'>4</a>\u001b[0m \u001b[39mfrom\u001b[39;00m \u001b[39morchestrator\u001b[39;00m\u001b[39m.\u001b[39;00m\u001b[39mexceptions\u001b[39;00m \u001b[39mimport\u001b[39;00m OrchestratorMissingParam\n",
      "File \u001b[0;32m~/Dev/python/orchestrator-py/src/orchestrator/orchestrator_asset.py:1\u001b[0m, in \u001b[0;36m<module>\u001b[0;34m\u001b[0m\n\u001b[0;32m----> <a href='file:///Users/alvaro/Dev/python/orchestrator-py/src/orchestrator/orchestrator_asset.py?line=0'>1</a>\u001b[0m \u001b[39mfrom\u001b[39;00m \u001b[39morchestrator\u001b[39;00m\u001b[39m.\u001b[39;00m\u001b[39morchestrator\u001b[39;00m \u001b[39mimport\u001b[39;00m Folder\n\u001b[1;32m      <a href='file:///Users/alvaro/Dev/python/orchestrator-py/src/orchestrator/orchestrator_asset.py?line=1'>2</a>\u001b[0m \u001b[39mimport\u001b[39;00m \u001b[39mrequests\u001b[39;00m\n\u001b[1;32m      <a href='file:///Users/alvaro/Dev/python/orchestrator-py/src/orchestrator/orchestrator_asset.py?line=2'>3</a>\u001b[0m \u001b[39mfrom\u001b[39;00m \u001b[39morchestrator\u001b[39;00m\u001b[39m.\u001b[39;00m\u001b[39mexceptions\u001b[39;00m \u001b[39mimport\u001b[39;00m OrchestratorMissingParam\n",
      "\u001b[0;31mImportError\u001b[0m: cannot import name 'Folder' from partially initialized module 'orchestrator.orchestrator' (most likely due to a circular import) (/Users/alvaro/Dev/python/orchestrator-py/src/orchestrator/orchestrator.py)"
     ]
    }
   ],
   "source": [
    "from orchestrator.orchestrator import Orchestrator\n",
    "from dotenv import load_dotenv\n",
    "import os\n",
    "from pprint import pprint"
   ]
  },
  {
   "cell_type": "code",
   "execution_count": null,
   "metadata": {},
   "outputs": [],
   "source": [
    "CLIENT_ID = os.getenv('CLIENT_ID')\n",
    "REFRESH_TOKEN = os.getenv('REFRESH_TOKEN')\n",
    "TENANT_NAME = os.getenv('TENANT_NAME')\n",
    "FOLDER_ID = os.getenv('FOLDER_ID')\n",
    "QUEUE_ID = os.getenv('QUEUE_ID')\n",
    "ITEM_ID = os.getenv('ITEM_ID')\n",
    "FOLDER_PRE_ID = os.getenv('FOLDER_PRE_ID')\n",
    "PROD_FOLDER_ID = os.getenv('PROD_FOLDER_ID')"
   ]
  },
  {
   "cell_type": "markdown",
   "metadata": {},
   "source": [
    "First we need to create a client, we do this using the `Orchestrator` classm which takes as arguments the client id, a refresh token and the tenant name, plus an additional optional argument of a folder id."
   ]
  },
  {
   "cell_type": "code",
   "execution_count": null,
   "metadata": {},
   "outputs": [],
   "source": [
    "client = Orchestrator(client_id = CLIENT_ID, refresh_token = REFRESH_TOKEN, tenant_name = TENANT_NAME)"
   ]
  },
  {
   "cell_type": "markdown",
   "metadata": {},
   "source": [
    "`client` contains a number of methods. For example, we can get all the folders, which returns a list of `Folders`."
   ]
  },
  {
   "cell_type": "code",
   "execution_count": null,
   "metadata": {},
   "outputs": [],
   "source": [
    "folders = client.get_all_folders()\n",
    "\n"
   ]
  },
  {
   "cell_type": "markdown",
   "metadata": {},
   "source": [
    "`folders` is a list"
   ]
  },
  {
   "cell_type": "code",
   "execution_count": null,
   "metadata": {},
   "outputs": [],
   "source": [
    "print(type(folders))\n",
    "print(len(folders))"
   ]
  },
  {
   "cell_type": "markdown",
   "metadata": {},
   "source": [
    "We can access an individual object and check its properties. "
   ]
  },
  {
   "cell_type": "code",
   "execution_count": null,
   "metadata": {},
   "outputs": [],
   "source": [
    "folder = folders[0]\n",
    "print(folder.name)\n",
    "print(folder.id)"
   ]
  },
  {
   "cell_type": "markdown",
   "metadata": {},
   "source": [
    "We can also check more in depth information about the folder using the `info()` method"
   ]
  },
  {
   "cell_type": "code",
   "execution_count": null,
   "metadata": {},
   "outputs": [],
   "source": [
    "folder_info = folder.info()\n",
    "print(folder_info)"
   ]
  },
  {
   "cell_type": "markdown",
   "metadata": {},
   "source": [
    "We can also open a folder by id directly from the `client` object:"
   ]
  },
  {
   "cell_type": "code",
   "execution_count": null,
   "metadata": {},
   "outputs": [],
   "source": [
    "production_folder = client.get_folder_by_id(1027097)"
   ]
  },
  {
   "cell_type": "markdown",
   "metadata": {},
   "source": [
    "Given a folder, we can access information on the assets of that given folder using the `get_all_assets` method"
   ]
  },
  {
   "cell_type": "code",
   "execution_count": null,
   "metadata": {},
   "outputs": [],
   "source": [
    "assets = production_folder.get_all_assets()"
   ]
  },
  {
   "cell_type": "code",
   "execution_count": null,
   "metadata": {},
   "outputs": [],
   "source": [
    "print(type(assets))\n",
    "asset = assets[0]\n",
    "print(type(asset))"
   ]
  },
  {
   "cell_type": "markdown",
   "metadata": {},
   "source": [
    "For an individual asset, we can request more information about it using the `info()` method:"
   ]
  },
  {
   "cell_type": "code",
   "execution_count": null,
   "metadata": {},
   "outputs": [],
   "source": [
    "asset_info = asset.info()\n",
    "# pprint(asset_info)"
   ]
  },
  {
   "cell_type": "markdown",
   "metadata": {},
   "source": [
    "To get a dictionary containing the ids of all the assets in a given folder, we use the `get_asset_ids` method from the `Folder` class."
   ]
  },
  {
   "cell_type": "code",
   "execution_count": null,
   "metadata": {},
   "outputs": [],
   "source": [
    "asset_ids = production_folder.get_asset_ids()\n",
    "# pprint(asset_ids)"
   ]
  },
  {
   "cell_type": "markdown",
   "metadata": {},
   "source": [
    "If we want to access a specific asset by id we can do that with the `get_asset_by_id` method"
   ]
  },
  {
   "cell_type": "code",
   "execution_count": null,
   "metadata": {},
   "outputs": [],
   "source": [
    "asset = production_folder.get_asset_by_id(97208)\n",
    "# pprint(asset.info())\n"
   ]
  },
  {
   "cell_type": "markdown",
   "metadata": {},
   "source": [
    "We can also access the queues of a given folder using the `get_all_queues` method of the `Folder` class"
   ]
  },
  {
   "cell_type": "code",
   "execution_count": null,
   "metadata": {},
   "outputs": [],
   "source": [
    "queues = production_folder.get_all_queues()"
   ]
  },
  {
   "cell_type": "code",
   "execution_count": null,
   "metadata": {},
   "outputs": [],
   "source": [
    "queue = queues[0]\n",
    "print(type(queue))\n"
   ]
  },
  {
   "cell_type": "markdown",
   "metadata": {},
   "source": [
    "A queue object has an id an a name as attributes, as well as an `info()` method to get more informatino out of it."
   ]
  },
  {
   "cell_type": "code",
   "execution_count": null,
   "metadata": {},
   "outputs": [],
   "source": [
    "print(queue.name)\n",
    "print(queue.id)\n",
    "print(queue.info())"
   ]
  },
  {
   "cell_type": "markdown",
   "metadata": {},
   "source": [
    "If we want to know the queue ids of a specific folder, we can get a dictionary of key balue pairs where keys are queue ids and values are the queue names'"
   ]
  },
  {
   "cell_type": "code",
   "execution_count": null,
   "metadata": {},
   "outputs": [],
   "source": [
    "queue_ids = production_folder.get_queue_ids()\n",
    "pprint(queue_ids)"
   ]
  },
  {
   "cell_type": "markdown",
   "metadata": {},
   "source": [
    "To access a specific queue we can specify its id an use the method `get_queue_by_id` to access that specific queue."
   ]
  },
  {
   "cell_type": "code",
   "execution_count": null,
   "metadata": {},
   "outputs": [],
   "source": [
    "queue = production_folder.get_queue_by_id(50184)\n",
    "print(queue.name)\n",
    "print(queue.id)"
   ]
  },
  {
   "cell_type": "markdown",
   "metadata": {},
   "source": [
    "To access the processing records of a single queue we use the `get_processing_records` method"
   ]
  },
  {
   "cell_type": "code",
   "execution_count": null,
   "metadata": {},
   "outputs": [],
   "source": [
    "records = queue.get_processing_records()\n",
    "print(len(records))"
   ]
  },
  {
   "cell_type": "markdown",
   "metadata": {},
   "source": [
    "To get a list of the processing records from the last number of days we specify it as a parameter"
   ]
  },
  {
   "cell_type": "code",
   "execution_count": null,
   "metadata": {},
   "outputs": [],
   "source": [
    "records_date = queue.get_processing_records(num_days = 2)\n"
   ]
  },
  {
   "cell_type": "markdown",
   "metadata": {},
   "source": [
    "We can also access the queue items of a single queue"
   ]
  },
  {
   "cell_type": "code",
   "execution_count": null,
   "metadata": {},
   "outputs": [],
   "source": [
    "queue_items = queue.get_queue_items()\n",
    "print(len(queue_items))"
   ]
  },
  {
   "cell_type": "code",
   "execution_count": null,
   "metadata": {},
   "outputs": [],
   "source": [
    "queue_item = queue_items[0]\n",
    "print(type(queue_item))\n",
    "pprint(queue_item.info())"
   ]
  },
  {
   "cell_type": "markdown",
   "metadata": {},
   "source": [
    "We can get information more specific about the queue item as well as its specific content attribute"
   ]
  },
  {
   "cell_type": "code",
   "execution_count": null,
   "metadata": {},
   "outputs": [],
   "source": [
    "queue_item_info = queue_item.info()\n",
    "queue_item_content = queue_item.content()\n",
    "pprint(queue_item_info)\n",
    "pprint(queue_item_content)\n"
   ]
  }
 ],
 "metadata": {
  "interpreter": {
   "hash": "1f0df5d23114895ba46a6ac75b6c55235228d3feb7da6db5fb070c9669757f5d"
  },
  "kernelspec": {
   "display_name": "Python 3.8.3 ('env': venv)",
   "language": "python",
   "name": "python3"
  },
  "language_info": {
   "codemirror_mode": {
    "name": "ipython",
    "version": 3
   },
   "file_extension": ".py",
   "mimetype": "text/x-python",
   "name": "python",
   "nbconvert_exporter": "python",
   "pygments_lexer": "ipython3",
   "version": "3.8.3"
  },
  "orig_nbformat": 4
 },
 "nbformat": 4,
 "nbformat_minor": 2
}
