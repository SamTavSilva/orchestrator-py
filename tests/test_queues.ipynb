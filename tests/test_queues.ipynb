{
 "cells": [
  {
   "cell_type": "code",
   "execution_count": 2,
   "metadata": {},
   "outputs": [],
   "source": [
    "from orchestrator import Orchestrator\n",
    "from dotenv import load_dotenv\n",
    "import os\n",
    "from pprint import pprint"
   ]
  },
  {
   "cell_type": "code",
   "execution_count": 3,
   "metadata": {},
   "outputs": [],
   "source": [
    "CLIENT_ID = os.getenv('CLIENT_ID')\n",
    "REFRESH_TOKEN = os.getenv('REFRESH_TOKEN')\n",
    "TENANT_NAME = os.getenv('TENANT_NAME')"
   ]
  },
  {
   "cell_type": "code",
   "execution_count": 4,
   "metadata": {},
   "outputs": [
    {
     "name": "stdout",
     "output_type": "stream",
     "text": [
      "session not set\n"
     ]
    }
   ],
   "source": [
    "client = Orchestrator(client_id = CLIENT_ID, refresh_token = REFRESH_TOKEN, tenant_name = TENANT_NAME)"
   ]
  },
  {
   "cell_type": "code",
   "execution_count": 5,
   "metadata": {},
   "outputs": [],
   "source": [
    "queue = client.get_folder_by_id(1027097).get_all_queues()[0]"
   ]
  },
  {
   "cell_type": "markdown",
   "metadata": {},
   "source": [
    "We can access the queue name, queue id and also more information about the queue using the `info` method of the calss"
   ]
  },
  {
   "cell_type": "code",
   "execution_count": 6,
   "metadata": {},
   "outputs": [
    {
     "name": "stdout",
     "output_type": "stream",
     "text": [
      "Queue Id: 41212 \n",
      "Queue Name: BOT_002_ES_ContractExtensions \n",
      "Folder Id: 1027097 \n",
      "Folder Name: Produccion\n",
      "BOT_002_ES_ContractExtensions -- 41212\n",
      "{'@odata.context': 'https://cloud.uipath.com/jobanyucdsvu/JTBOT/orchestrator_/odata/$metadata#QueueDefinitions/$entity',\n",
      " 'AcceptAutomaticallyRetry': True,\n",
      " 'AnalyticsDataJsonSchema': '',\n",
      " 'CreationTime': '2021-05-28T09:23:27.037Z',\n",
      " 'Description': 'ES',\n",
      " 'Encrypted': False,\n",
      " 'EnforceUniqueReference': False,\n",
      " 'FoldersCount': 2,\n",
      " 'Id': 41212,\n",
      " 'IsProcessInCurrentFolder': True,\n",
      " 'MaxNumberOfRetries': 3,\n",
      " 'Name': 'BOT_002_ES_ContractExtensions',\n",
      " 'OrganizationUnitFullyQualifiedName': None,\n",
      " 'OrganizationUnitId': 593778,\n",
      " 'OutputDataJsonSchema': '',\n",
      " 'ProcessScheduleId': 59091,\n",
      " 'ReleaseId': 116798,\n",
      " 'RiskSlaInMinutes': 0,\n",
      " 'SlaInMinutes': 0,\n",
      " 'SpecificDataJsonSchema': '',\n",
      " 'Tags': []}\n"
     ]
    }
   ],
   "source": [
    "print(queue)\n",
    "print(f\"{queue.name} -- {queue.id}\")\n",
    "pprint(queue.info())"
   ]
  },
  {
   "cell_type": "markdown",
   "metadata": {},
   "source": [
    "We can also get the processing records of the given queue, which admits a query option that represents the number of days back."
   ]
  },
  {
   "cell_type": "code",
   "execution_count": null,
   "metadata": {},
   "outputs": [],
   "source": [
    "records = queue.get_processing_records()\n",
    "filt_records = queue.get_processing_records(num_days = 5)"
   ]
  },
  {
   "cell_type": "code",
   "execution_count": null,
   "metadata": {},
   "outputs": [],
   "source": [
    "pprint(len(filt_records))\n",
    "pprint(len(records))"
   ]
  },
  {
   "cell_type": "markdown",
   "metadata": {},
   "source": [
    "We can access all the queue items of the queue, which allows for odata options."
   ]
  },
  {
   "cell_type": "code",
   "execution_count": null,
   "metadata": {},
   "outputs": [],
   "source": [
    "queue_items = queue.get_queue_items()\n",
    "options = {\n",
    "    \"$top\" : \"10\"\n",
    "}\n",
    "filt_queue_items = queue.get_queue_items(options = options)\n",
    "print(len(filt_queue_items))\n",
    "print(len(queue_items))"
   ]
  },
  {
   "cell_type": "markdown",
   "metadata": {},
   "source": [
    "If we don't know the ids, we can get a dictionary of the queue item ids with their corrresponding queue name "
   ]
  },
  {
   "cell_type": "code",
   "execution_count": null,
   "metadata": {},
   "outputs": [],
   "source": [
    "item_ids = queue.get_queue_items_ids(options = options)\n",
    "pprint(item_ids)"
   ]
  },
  {
   "cell_type": "markdown",
   "metadata": {},
   "source": [
    "We can also get a single queue item by id "
   ]
  },
  {
   "cell_type": "code",
   "execution_count": null,
   "metadata": {},
   "outputs": [],
   "source": [
    "queue_item = queue.get_item_by_id(228663046)"
   ]
  },
  {
   "cell_type": "markdown",
   "metadata": {},
   "source": [
    "And we can access its info using the `info` method, as well as its attributes and its specific content using the `content` method"
   ]
  },
  {
   "cell_type": "code",
   "execution_count": null,
   "metadata": {},
   "outputs": [],
   "source": [
    "print(queue_item)\n",
    "# pprint(queue_item.info())\n",
    "# pprint(queue_item.content())"
   ]
  },
  {
   "cell_type": "markdown",
   "metadata": {},
   "source": [
    "Need to add methods for adding queue items and creating queue items"
   ]
  }
 ],
 "metadata": {
  "interpreter": {
   "hash": "1f0df5d23114895ba46a6ac75b6c55235228d3feb7da6db5fb070c9669757f5d"
  },
  "kernelspec": {
   "display_name": "Python 3.8.3 ('env': venv)",
   "language": "python",
   "name": "python3"
  },
  "language_info": {
   "codemirror_mode": {
    "name": "ipython",
    "version": 3
   },
   "file_extension": ".py",
   "mimetype": "text/x-python",
   "name": "python",
   "nbconvert_exporter": "python",
   "pygments_lexer": "ipython3",
   "version": "3.8.3"
  },
  "orig_nbformat": 4
 },
 "nbformat": 4,
 "nbformat_minor": 2
}
