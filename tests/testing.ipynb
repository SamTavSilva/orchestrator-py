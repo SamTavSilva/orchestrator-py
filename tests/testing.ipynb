{
 "cells": [
  {
   "cell_type": "code",
   "execution_count": 1,
   "metadata": {},
   "outputs": [
    {
     "ename": "ImportError",
     "evalue": "cannot import name 'Folder' from partially initialized module 'orchestrator.orchestrator' (most likely due to a circular import) (/Users/alvaro/Dev/python/orchestrator-py/src/orchestrator/orchestrator.py)",
     "output_type": "error",
     "traceback": [
      "\u001b[0;31m---------------------------------------------------------------------------\u001b[0m",
      "\u001b[0;31mImportError\u001b[0m                               Traceback (most recent call last)",
      "\u001b[1;32m/Users/alvaro/Dev/python/orchestrator-py/tests/testing.ipynb Cell 1'\u001b[0m in \u001b[0;36m<cell line: 1>\u001b[0;34m()\u001b[0m\n\u001b[0;32m----> <a href='vscode-notebook-cell:/Users/alvaro/Dev/python/orchestrator-py/tests/testing.ipynb#ch0000000?line=0'>1</a>\u001b[0m \u001b[39mfrom\u001b[39;00m \u001b[39morchestrator\u001b[39;00m\u001b[39m.\u001b[39;00m\u001b[39morchestrator\u001b[39;00m \u001b[39mimport\u001b[39;00m Folder\n\u001b[1;32m      <a href='vscode-notebook-cell:/Users/alvaro/Dev/python/orchestrator-py/tests/testing.ipynb#ch0000000?line=1'>2</a>\u001b[0m \u001b[39mfrom\u001b[39;00m \u001b[39mdotenv\u001b[39;00m \u001b[39mimport\u001b[39;00m load_dotenv\n\u001b[1;32m      <a href='vscode-notebook-cell:/Users/alvaro/Dev/python/orchestrator-py/tests/testing.ipynb#ch0000000?line=2'>3</a>\u001b[0m \u001b[39mimport\u001b[39;00m \u001b[39mos\u001b[39;00m\n",
      "File \u001b[0;32m~/Dev/python/orchestrator-py/src/orchestrator/orchestrator.py:12\u001b[0m, in \u001b[0;36m<module>\u001b[0;34m\u001b[0m\n\u001b[1;32m      <a href='file:///Users/alvaro/Dev/python/orchestrator-py/src/orchestrator/orchestrator.py?line=8'>9</a>\u001b[0m \u001b[39mfrom\u001b[39;00m \u001b[39mpprint\u001b[39;00m \u001b[39mimport\u001b[39;00m pprint\n\u001b[1;32m     <a href='file:///Users/alvaro/Dev/python/orchestrator-py/src/orchestrator/orchestrator.py?line=10'>11</a>\u001b[0m \u001b[39mfrom\u001b[39;00m \u001b[39morchestrator\u001b[39;00m\u001b[39m.\u001b[39;00m\u001b[39mexceptions\u001b[39;00m \u001b[39mimport\u001b[39;00m OrchestratorAuthException, OrchestratorMissingParam\n\u001b[0;32m---> <a href='file:///Users/alvaro/Dev/python/orchestrator-py/src/orchestrator/orchestrator.py?line=11'>12</a>\u001b[0m \u001b[39mfrom\u001b[39;00m \u001b[39morchestrator\u001b[39;00m\u001b[39m.\u001b[39;00m\u001b[39masset\u001b[39;00m \u001b[39mimport\u001b[39;00m Asset\n\u001b[1;32m     <a href='file:///Users/alvaro/Dev/python/orchestrator-py/src/orchestrator/orchestrator.py?line=12'>13</a>\u001b[0m \u001b[39mfrom\u001b[39;00m \u001b[39morchestrator\u001b[39;00m\u001b[39m.\u001b[39;00m\u001b[39mqueue\u001b[39;00m \u001b[39mimport\u001b[39;00m Queue\n\u001b[1;32m     <a href='file:///Users/alvaro/Dev/python/orchestrator-py/src/orchestrator/orchestrator.py?line=13'>14</a>\u001b[0m \u001b[39m# from orchestrator.folder import Folder\u001b[39;00m\n",
      "File \u001b[0;32m~/Dev/python/orchestrator-py/src/orchestrator/asset.py:3\u001b[0m, in \u001b[0;36m<module>\u001b[0;34m\u001b[0m\n\u001b[1;32m      <a href='file:///Users/alvaro/Dev/python/orchestrator-py/src/orchestrator/asset.py?line=0'>1</a>\u001b[0m \u001b[39mimport\u001b[39;00m \u001b[39mrequests\u001b[39;00m\n\u001b[0;32m----> <a href='file:///Users/alvaro/Dev/python/orchestrator-py/src/orchestrator/asset.py?line=2'>3</a>\u001b[0m \u001b[39mfrom\u001b[39;00m \u001b[39morchestrator\u001b[39;00m\u001b[39m.\u001b[39;00m\u001b[39morchestrator\u001b[39;00m \u001b[39mimport\u001b[39;00m Folder\n\u001b[1;32m      <a href='file:///Users/alvaro/Dev/python/orchestrator-py/src/orchestrator/asset.py?line=3'>4</a>\u001b[0m \u001b[39mfrom\u001b[39;00m \u001b[39morchestrator\u001b[39;00m\u001b[39m.\u001b[39;00m\u001b[39mexceptions\u001b[39;00m \u001b[39mimport\u001b[39;00m OrchestratorMissingParam\n\u001b[1;32m      <a href='file:///Users/alvaro/Dev/python/orchestrator-py/src/orchestrator/asset.py?line=6'>7</a>\u001b[0m \u001b[39mclass\u001b[39;00m \u001b[39mAsset\u001b[39;00m(Folder):\n",
      "\u001b[0;31mImportError\u001b[0m: cannot import name 'Folder' from partially initialized module 'orchestrator.orchestrator' (most likely due to a circular import) (/Users/alvaro/Dev/python/orchestrator-py/src/orchestrator/orchestrator.py)"
     ]
    }
   ],
   "source": [
    "from orchestrator.orchestrator import Orchestrator\n",
    "from dotenv import load_dotenv\n",
    "import os\n",
    "from pprint import pprint"
   ]
  },
  {
   "cell_type": "code",
   "execution_count": null,
   "metadata": {},
   "outputs": [],
   "source": [
    "CLIENT_ID = os.getenv('CLIENT_ID')\n",
    "REFRESH_TOKEN = os.getenv('REFRESH_TOKEN')\n",
    "TENANT_NAME = os.getenv('TENANT_NAME')\n",
    "FOLDER_ID = os.getenv('FOLDER_ID')\n",
    "QUEUE_ID = os.getenv('QUEUE_ID')\n",
    "ITEM_ID = os.getenv('ITEM_ID')\n",
    "FOLDER_PRE_ID = os.getenv('FOLDER_PRE_ID')\n",
    "PROD_FOLDER_ID = os.getenv('PROD_FOLDER_ID')"
   ]
  },
  {
   "cell_type": "code",
   "execution_count": null,
   "metadata": {},
   "outputs": [],
   "source": [
    "client = Orchestrator(client_id = CLIENT_ID, refresh_token = REFRESH_TOKEN, tenant_name = TENANT_NAME)"
   ]
  },
  {
   "cell_type": "code",
   "execution_count": null,
   "metadata": {},
   "outputs": [],
   "source": [
    "folders = client.get_all_folders()\n",
    "production = folders[0]\n"
   ]
  },
  {
   "cell_type": "code",
   "execution_count": null,
   "metadata": {},
   "outputs": [],
   "source": [
    "ids = client.get_folder_ids()\n",
    "pprint(ids)"
   ]
  },
  {
   "cell_type": "code",
   "execution_count": null,
   "metadata": {},
   "outputs": [],
   "source": [
    "folder = client.get_folder_by_id(1027097)\n",
    "pprint(folder.id)\n",
    "pprint(folder.name)"
   ]
  },
  {
   "cell_type": "code",
   "execution_count": null,
   "metadata": {},
   "outputs": [],
   "source": [
    "folder_data = folder.info()\n",
    "# pprint(folder_data)"
   ]
  },
  {
   "cell_type": "code",
   "execution_count": null,
   "metadata": {},
   "outputs": [],
   "source": [
    "queues = folder.get_all_queues()\n",
    "queue = queues[0]\n",
    "pprint(queue.id)\n",
    "pprint(queue.name)\n",
    "# pprint(queue.info())"
   ]
  },
  {
   "cell_type": "code",
   "execution_count": null,
   "metadata": {},
   "outputs": [],
   "source": [
    "queue = folder.get_queue_by_id(41212)\n",
    "pprint(queue.id)\n",
    "# pprint(folder.get_queue_ids())"
   ]
  },
  {
   "cell_type": "code",
   "execution_count": null,
   "metadata": {},
   "outputs": [],
   "source": [
    "# pprint(queue.get_processing_records())"
   ]
  },
  {
   "cell_type": "code",
   "execution_count": null,
   "metadata": {},
   "outputs": [],
   "source": [
    "items = queue.get_queue_items()"
   ]
  },
  {
   "cell_type": "code",
   "execution_count": null,
   "metadata": {},
   "outputs": [],
   "source": [
    "item = items[0]\n",
    "pprint(item.folder_id)\n",
    "pprint(item.content)"
   ]
  },
  {
   "cell_type": "code",
   "execution_count": null,
   "metadata": {},
   "outputs": [],
   "source": [
    "ids = queue.get_queue_items_ids()\n",
    "# pprint(ids)"
   ]
  },
  {
   "cell_type": "code",
   "execution_count": null,
   "metadata": {},
   "outputs": [],
   "source": [
    "# pprint(item.specific_content())\n",
    "# pprint(item.last_entry())"
   ]
  },
  {
   "cell_type": "code",
   "execution_count": null,
   "metadata": {},
   "outputs": [],
   "source": [
    "history = item.history()\n",
    "# pprint(history)"
   ]
  },
  {
   "cell_type": "code",
   "execution_count": null,
   "metadata": {},
   "outputs": [],
   "source": [
    "new_item = queue.get_item_by_id(227888880)\n",
    "pprint(new_item.queue_name)"
   ]
  },
  {
   "cell_type": "code",
   "execution_count": null,
   "metadata": {},
   "outputs": [],
   "source": [
    "queues = folder.get_all_queues()\n",
    "pprint(queues[1].name)"
   ]
  },
  {
   "cell_type": "code",
   "execution_count": null,
   "metadata": {},
   "outputs": [],
   "source": [
    "assets = folder.get_all_assets()"
   ]
  }
 ],
 "metadata": {
  "interpreter": {
   "hash": "1f0df5d23114895ba46a6ac75b6c55235228d3feb7da6db5fb070c9669757f5d"
  },
  "kernelspec": {
   "display_name": "Python 3.8.3 ('env': venv)",
   "language": "python",
   "name": "python3"
  },
  "language_info": {
   "codemirror_mode": {
    "name": "ipython",
    "version": 3
   },
   "file_extension": ".py",
   "mimetype": "text/x-python",
   "name": "python",
   "nbconvert_exporter": "python",
   "pygments_lexer": "ipython3",
   "version": "3.8.3"
  },
  "orig_nbformat": 4
 },
 "nbformat": 4,
 "nbformat_minor": 2
}
