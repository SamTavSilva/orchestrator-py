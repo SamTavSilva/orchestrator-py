{
 "cells": [
  {
   "cell_type": "markdown",
   "metadata": {},
   "source": [
    "To work with `Folder`, we make the same initialization as we did for the `Orchestrator` module"
   ]
  },
  {
   "cell_type": "code",
   "execution_count": 1,
   "metadata": {},
   "outputs": [],
   "source": [
    "from orchestrator.orchestrator import Orchestrator\n",
    "from dotenv import load_dotenv\n",
    "import os\n",
    "from pprint import pprint"
   ]
  },
  {
   "cell_type": "code",
   "execution_count": 2,
   "metadata": {},
   "outputs": [],
   "source": [
    "CLIENT_ID = os.getenv('CLIENT_ID')\n",
    "REFRESH_TOKEN = os.getenv('REFRESH_TOKEN')\n",
    "TENANT_NAME = os.getenv('TENANT_NAME')"
   ]
  },
  {
   "cell_type": "code",
   "execution_count": 3,
   "metadata": {},
   "outputs": [],
   "source": [
    "client = Orchestrator(client_id = CLIENT_ID, refresh_token = REFRESH_TOKEN, tenant_name = TENANT_NAME)\n"
   ]
  },
  {
   "cell_type": "markdown",
   "metadata": {},
   "source": [
    "We select a folder based on its id"
   ]
  },
  {
   "cell_type": "code",
   "execution_count": 4,
   "metadata": {},
   "outputs": [
    {
     "name": "stdout",
     "output_type": "stream",
     "text": [
      "None\n",
      "<Response [200]>\n"
     ]
    }
   ],
   "source": [
    "production_folder = client.get_folder_by_id(1027097)"
   ]
  },
  {
   "cell_type": "markdown",
   "metadata": {},
   "source": [
    "Folders can be printed, and we can access their attributes"
   ]
  },
  {
   "cell_type": "code",
   "execution_count": 5,
   "metadata": {},
   "outputs": [
    {
     "name": "stdout",
     "output_type": "stream",
     "text": [
      "Folder Id: 1027097 \n",
      "Folder Name: Produccion\n",
      "1027097\n",
      "Produccion\n"
     ]
    }
   ],
   "source": [
    "print(production_folder)\n",
    "print(production_folder.id)\n",
    "print(production_folder.name)"
   ]
  },
  {
   "cell_type": "markdown",
   "metadata": {},
   "source": [
    "We can access more detail information about the folder using the `info` method of the class."
   ]
  },
  {
   "cell_type": "code",
   "execution_count": 6,
   "metadata": {},
   "outputs": [
    {
     "name": "stdout",
     "output_type": "stream",
     "text": [
      "1027097\n",
      "<Response [200]>\n",
      "{'@odata.context': 'https://cloud.uipath.com/jobanyucdsvu/JTBOT/orchestrator_/odata/$metadata#Folders/$entity',\n",
      " 'Description': None,\n",
      " 'DisplayName': 'Produccion',\n",
      " 'FeedType': 'Processes',\n",
      " 'FullyQualifiedName': 'Produccion',\n",
      " 'FullyQualifiedNameOrderable': 'Produccion',\n",
      " 'Id': 1027097,\n",
      " 'IsActive': True,\n",
      " 'Key': 'cbe0ef9a-a628-40bf-8580-44c3a4360330',\n",
      " 'ParentId': None,\n",
      " 'ParentKey': None,\n",
      " 'PermissionModel': 'FineGrained',\n",
      " 'ProvisionType': 'Automatic'}\n"
     ]
    }
   ],
   "source": [
    "info = production_folder.info()\n",
    "pprint(info)"
   ]
  },
  {
   "cell_type": "markdown",
   "metadata": {},
   "source": [
    "We can get all the queues from that specific folder via the `get_all_queues` method, which allows for odata query options"
   ]
  },
  {
   "cell_type": "code",
   "execution_count": 7,
   "metadata": {},
   "outputs": [
    {
     "name": "stdout",
     "output_type": "stream",
     "text": [
      "1027097\n",
      "<Response [200]>\n",
      "1027097\n",
      "<Response [200]>\n"
     ]
    }
   ],
   "source": [
    "queues = production_folder.get_all_queues()\n",
    "options = {\n",
    "    \"$filter\" : \"Name eq 'BOT_002_ES_ContractExtensions'\"\n",
    "}\n",
    "filt_queues = production_folder.get_all_queues(options = options)"
   ]
  },
  {
   "cell_type": "code",
   "execution_count": 8,
   "metadata": {},
   "outputs": [
    {
     "name": "stdout",
     "output_type": "stream",
     "text": [
      "BOT_001_ES_EndingContractsTreatment -- 47069\n",
      "BOT_002_ES_ContractExtensions -- 41212\n"
     ]
    }
   ],
   "source": [
    "queue = queues[4]\n",
    "filt_queue = filt_queues[0]\n",
    "print(f\"{queue.name} -- {queue.id}\")\n",
    "print(f\"{filt_queue.name} -- {filt_queue.id}\")"
   ]
  },
  {
   "cell_type": "markdown",
   "metadata": {},
   "source": [
    "Within a folder, we can access individual queues by either name or id using the `get_queue_by_id` and `get_queue_by_name` methods respectively."
   ]
  },
  {
   "cell_type": "code",
   "execution_count": 9,
   "metadata": {},
   "outputs": [
    {
     "name": "stdout",
     "output_type": "stream",
     "text": [
      "1027097\n",
      "<Response [200]>\n",
      "BOT_001_ES_EndingContractsTreatment -- 47069\n"
     ]
    }
   ],
   "source": [
    "queue = production_folder.get_queue_by_id(47069)\n",
    "print(f\"{queue.name} -- {queue.id}\")"
   ]
  },
  {
   "cell_type": "markdown",
   "metadata": {},
   "source": [
    "If we don't know the queue ids, we can get a dictionary containing the queue ids and their names."
   ]
  },
  {
   "cell_type": "code",
   "execution_count": 10,
   "metadata": {},
   "outputs": [
    {
     "name": "stdout",
     "output_type": "stream",
     "text": [
      "1027097\n",
      "<Response [200]>\n",
      "{41212: 'BOT_002_ES_ContractExtensions',\n",
      " 43316: 'BOT_003_XX_ContractCancellation',\n",
      " 44217: 'BOT_004_ES_AdditionalDocumentation',\n",
      " 46148: 'BOT_007_UK_WASending',\n",
      " 47069: 'BOT_001_ES_EndingContractsTreatment',\n",
      " 48424: 'BOT_006_UK_ShiftsCreation',\n",
      " 49561: 'BOT_010_UK_EUShareCodeCheck',\n",
      " 50069: 'BOT_011_UK_UpdateNICategory',\n",
      " 50184: 'BOT_008_UK_Referrals',\n",
      " 52451: 'BOT_013_CO_SendJobOffers',\n",
      " 54030: 'BOT_012_UK_SSP_ELIGIBILITY',\n",
      " 54705: 'BOT_014_ES_RTWAutomaticHirings',\n",
      " 56673: 'BOT_016_ES_PRLDocumentation',\n",
      " 56674: 'BOT_016_ES_PRLDocumentation_Test',\n",
      " 57531: 'BOT_019_ES_VacancyRequest',\n",
      " 57550: 'BOT_015_CO_Queue_Terminator',\n",
      " 57553: 'BOT_020_ES_TemplateCreation',\n",
      " 58491: 'BOT_019_ES_VacancyRequest_TEST',\n",
      " 58683: 'BOT_020_ES_TemplateCreation_JEWorkers',\n",
      " 58924: 'BOT_021_ES_API-CTT',\n",
      " 59815: 'BOT_021_ES_API-CTT_Test',\n",
      " 60164: 'BOT_018_CO_Jobberbot',\n",
      " 60666: 'BOT_023_UK_RequestBackgroundCheck',\n",
      " 60947: 'BOT_022_DE_BBDDAirtable',\n",
      " 60948: 'BOT_022_DE_BBDDAirtable_Test',\n",
      " 65733: 'BOT_017_UK_ClientDemandGathering',\n",
      " 65845: 'BOT_024_CO_ARLCertificatesUpload',\n",
      " 66005: 'BOT_001_ES_EndingContractsTreatment_Test',\n",
      " 66759: 'BOT_026_FR_RenovationsExecution_Test',\n",
      " 69053: 'BOT_017_UK_ClientDemandGathering_TEST',\n",
      " 69406: 'BOT_007_UK_WASending_Test',\n",
      " 69699: 'BOT_030_ES_Novations',\n",
      " 69700: 'BOT_030_ES_Novations_Test',\n",
      " 70150: 'BOT_026_ES_CreateNewHirings',\n",
      " 70151: 'BOT_026_ES_RenovationsExecution_Test',\n",
      " 70993: 'BOT_028_ES_JEClientValidation',\n",
      " 70994: 'BOT_028_ES_JEClientValidation_Test',\n",
      " 71880: 'BOT_027_ES_CallManagement',\n",
      " 71881: 'BOT_027_ES_CallManagement_Test',\n",
      " 74421: 'BOT_031_DE_UpdateCandidatesDC',\n",
      " 74481: 'BOT_014_FR_LEGRecuHirings',\n",
      " 75442: 'BOT_014_UK_RTWAutomaticHirings',\n",
      " 78724: 'BOT_034_UK_AssignServiceArea',\n",
      " 79833: 'BOT_032_DE_TimeSheetsUpload_Test',\n",
      " 81088: 'BOT_036_FR_ThirdPartyToMarketplace',\n",
      " 81825: 'BOT_035_SE_ThirdPartyToMarketplace_Test',\n",
      " 81838: 'BOT_015_CO_Queue_Terminator_Test',\n",
      " 81923: 'BOT_034_UK_AssignServiceArea_Test',\n",
      " 82389: 'BOT_037_SE_IntelliplanToMarketplace',\n",
      " 84081: 'BOT_026_FR_CreateNewHirings',\n",
      " 84225: 'BOT_035_SE_ThirdPartyToMarketplace',\n",
      " 85928: 'BOT_029_US_CandidatesCreationAvionte',\n",
      " 86305: 'BOT_027_ES_CallManagement_Global',\n",
      " 88118: 'BOT_033_ES_AptosMedicos',\n",
      " 89063: 'BOT_038_UK_CancelWorkAssignments',\n",
      " 89064: 'BOT_031_DE_UpdateCandidatesDC_Test',\n",
      " 89847: 'BOT_041_UK_AutoCorrections',\n",
      " 94889: 'BOT_042_CO_Backgroundcheck_POST',\n",
      " 94890: 'BOT_042_CO_Backgroundcheck_GET',\n",
      " 94909: 'BOT_001_ES_EndingContracts_Treatment',\n",
      " 95171: 'BOT_040_UK_CandidateChanges',\n",
      " 95235: 'BOT_032_DE_TimeSheetsUpload',\n",
      " 96144: 'BOT_044_FR_JobOpenings',\n",
      " 97961: 'BOT_024.2_CO_ARLCertificatesDownload',\n",
      " 99086: 'BOT_005_UK_P45Holidays',\n",
      " 99306: 'BOT_046_US_JobInfoExtraction',\n",
      " 99307: 'BOT_008_UK_Referrals_Test',\n",
      " 103638: 'BOT_003_ES_ContractCancellation',\n",
      " 103639: 'BOT_003_FR_ContractCancellation',\n",
      " 103640: 'BOT_003_DE_ContractCancellation',\n",
      " 103641: 'BOT_003_CO_ContractCancellation',\n",
      " 103906: 'BOT_002_FR_ContractExtensions',\n",
      " 106788: 'BOT_039.2_US_AvionteToMarketplace',\n",
      " 108069: 'BOT_039_US_AvionteToMarketplace',\n",
      " 108198: 'BOT_043_US_HiringCreation',\n",
      " 108672: 'BOT_049_SE_TeamTailorCandidateRemoval',\n",
      " 108895: 'BOT_047_US_WA_Cancellation'}\n"
     ]
    }
   ],
   "source": [
    "queue_ids = production_folder.get_queue_ids()\n",
    "pprint(queue_ids)"
   ]
  },
  {
   "cell_type": "markdown",
   "metadata": {},
   "source": [
    "We can also get the processing records for all the queues in the given folder. "
   ]
  },
  {
   "cell_type": "code",
   "execution_count": 11,
   "metadata": {},
   "outputs": [
    {
     "name": "stdout",
     "output_type": "stream",
     "text": [
      "1027097\n",
      "<Response [200]>\n"
     ]
    }
   ],
   "source": [
    "records = production_folder.get_queue_processing_records()"
   ]
  },
  {
   "cell_type": "markdown",
   "metadata": {},
   "source": [
    "We can get all the assets in the given folder, as well as a single asset by id or by name, and a dictionary of asset ids and asset names. "
   ]
  },
  {
   "cell_type": "code",
   "execution_count": 12,
   "metadata": {},
   "outputs": [
    {
     "name": "stdout",
     "output_type": "stream",
     "text": [
      "1027097\n",
      "<Response [200]>\n",
      "Administrator_Mail -- 208683\n"
     ]
    }
   ],
   "source": [
    "assets = production_folder.get_all_assets()\n",
    "asset = assets[0]\n",
    "print(f\"{asset.name} -- {asset.id}\")"
   ]
  },
  {
   "cell_type": "code",
   "execution_count": 13,
   "metadata": {},
   "outputs": [
    {
     "name": "stdout",
     "output_type": "stream",
     "text": [
      "1027097\n",
      "<Response [200]>\n",
      "Administrator_Mail -- 208683\n"
     ]
    }
   ],
   "source": [
    "asset = production_folder.get_asset_by_id(208683)\n",
    "print(f\"{asset.name} -- {asset.id}\")"
   ]
  },
  {
   "cell_type": "code",
   "execution_count": 14,
   "metadata": {},
   "outputs": [
    {
     "name": "stdout",
     "output_type": "stream",
     "text": [
      "1027097\n",
      "<Response [200]>\n",
      "{91068: 'login_wf',\n",
      " 91069: 'queryFromRedash',\n",
      " 91071: 'email_list_extensions',\n",
      " 91076: 'bot_google_account',\n",
      " 91080: 'user_extensions',\n",
      " 92800: 'spreadsheet_ID',\n",
      " 93103: 'BOT_005_UK_EmailReport',\n",
      " 97208: 'BOT_004_ES_TOKEN',\n",
      " 97242: 'BOT_003_ES_TOKEN',\n",
      " 99292: 'BOT_007_UK_emails_to_send',\n",
      " 99293: 'BOT_007_UK_SpreadsheetID',\n",
      " 99294: 'BOT_007_UK_TOKEN',\n",
      " 99569: 'BOT_007_UK_queryFromRedash',\n",
      " 100582: 'BOT_009_UK_filezilla_password',\n",
      " 100981: 'BOT_1_TOKEN_EXTEN',\n",
      " 101311: 'BOT_006_UK_gsheet_FPO_ID',\n",
      " 101312: 'BOT_006_UK_SpreadsheetID',\n",
      " 101313: 'login_scheduler',\n",
      " 103080: 'BOT_007_UK_message',\n",
      " 103320: 'login_candidates',\n",
      " 103685: 'BOT_010_UK_EmailReport',\n",
      " 103686: 'BOT_010_UK_SpreadsheetID',\n",
      " 103687: 'BOT_010_UK_TOKEN',\n",
      " 103690: 'BOT_010_UK_queryFromPopSQL',\n",
      " 104726: 'BOT_011_UK_EmailReport',\n",
      " 104729: 'BOT_011_UK_TOKEN',\n",
      " 104734: 'BOT_011_UK_SpreadsheetID',\n",
      " 105386: 'SMTPMail',\n",
      " 107437: 'BOT_003_FR_TOKEN',\n",
      " 109575: 'BOT_014_ES_queryFromRedash',\n",
      " 109907: 'BOT_003_DE_TOKEN',\n",
      " 109911: 'BOT_003_DE_EmailReport',\n",
      " 110229: 'BOT_003_CO_TOKEN',\n",
      " 110230: 'BOT_003_CO_EmailReport',\n",
      " 113670: 'BOT_012_UK_SSP_ELIGIBILITY_QUERY',\n",
      " 113672: 'BOT_012_UK_EmailReport',\n",
      " 113674: 'BOT_012_UK_SSP_ELIGIBILITY_SPREADSHEET_ID',\n",
      " 113848: 'BOT_014_ES_EmailReport',\n",
      " 114365: 'BOT_002_FR_EmailReport',\n",
      " 114367: 'BOT_002_ES_EmailReport',\n",
      " 114419: 'BOT_002_ES_TOKEN',\n",
      " 114420: 'BOT_002_FR_TOKEN',\n",
      " 114421: 'BOT_002_SpreadsheetID',\n",
      " 114659: 'GSuite_Service',\n",
      " 115301: 'BOT_013_CO_Token',\n",
      " 115624: 'BOT_012_UK_SSP_ELIGIBILITY_SMTPEmail',\n",
      " 117035: 'BOT_016_ES_TOKEN',\n",
      " 117039: 'BOT_016_ES_EmailReport',\n",
      " 117041: 'BOT_016_ES_SpreadsheetID',\n",
      " 117044: 'BOT_016_ES_Spreadsheet_UNI',\n",
      " 117047: 'BOT_016_ES_FolderJT',\n",
      " 117050: 'BOT_016_ES_FolderJT_Test',\n",
      " 117051: 'BOT_016_ES_SpreadsheetID_test',\n",
      " 117052: 'BOT_016_ES_emails_to_send_test',\n",
      " 118503: 'SMTPSenderName',\n",
      " 119331: 'BOT_019_ES_emails_to_send',\n",
      " 119332: 'BOT_019_ES_emails_to_send_TEST',\n",
      " 119334: 'BOT_019_ES_SpreadsheetQUERY',\n",
      " 119372: 'BOT_015_CO_emails_to_send',\n",
      " 119373: 'BOT_015_CO_MailSenderName',\n",
      " 119374: 'BOT_015_CO_spreadsheet_consumer_id',\n",
      " 119375: 'BOT_015_CO_spreadsheet_producer_queue',\n",
      " 119376: 'BOT_015_CO_TERMINATOR_DEVELOPER_MAIL',\n",
      " 119377: 'BOT_015_CO_TERMINATOR_FINALEMAIL',\n",
      " 119378: 'BOT_015_CO_TERMINATOR_TOKEN',\n",
      " 119391: 'BOT_019_ES_SpreadsheetID',\n",
      " 119392: 'BOT_019_ES_Token',\n",
      " 122430: 'BOT_021_ES_Producer_ID_Spreadsheet',\n",
      " 122719: 'BOT_021_ES_Producer_ID_Spreadsheet_Test',\n",
      " 123177: 'BOT_016_ES_QueryFromPopSQL',\n",
      " 124596: 'BOT_007_UK_queryFromRedash_2',\n",
      " 124652: 'BOT_023_UK_User',\n",
      " 124663: 'BOT_023_UK_EmailReport',\n",
      " 124680: 'BOT_007_UK_SpreadsheetID_2',\n",
      " 125886: 'BOT_018_CO_SpreadSheetID',\n",
      " 125888: 'BOT_018_CO_EmailReport',\n",
      " 125890: 'BOT_018_CO_Token',\n",
      " 125962: 'BOT_012_UK_Token',\n",
      " 126209: 'BOT_021_ES_SpreadsheetID',\n",
      " 126210: 'BOT_021_ES_SpreadsheetID_Test',\n",
      " 126215: 'BOT_021_ES_EmailReport',\n",
      " 126217: 'BOT_021_ES_EmailReport_Test',\n",
      " 127374: 'BOT_022_DE_EmailListReport',\n",
      " 127946: 'BOT_021_ES_Spreadsheet_Hist_ID',\n",
      " 127948: 'BOT_021_ES_Spreadsheet_Hist_ID_Test',\n",
      " 131403: 'BOT_014_FR_TOKEN',\n",
      " 133042: 'BOT_024_CO_Token',\n",
      " 133825: 'BOT_009_UK_TOKEN',\n",
      " 134875: 'BOT_024_CO_EmailReport',\n",
      " 134876: 'BOT_024_CO_SpreadSheetID',\n",
      " 134877: 'BOT_024_CO_SheetToTablesID',\n",
      " 135916: 'BOT_014_FR_EmailReport',\n",
      " 135920: 'BOT_014_ES_TOKEN',\n",
      " 137985: 'BOT_026_FR_EmailReport_Test',\n",
      " 137987: 'BOT_026_FR_QueryFromPopSQL',\n",
      " 138100: 'BOT_026_XX_SpreadsheetID_Test',\n",
      " 138101: 'BOT_026_FR_TOKEN',\n",
      " 138574: 'BOT_017_UK_TOKEN',\n",
      " 138575: 'BOT_017_UK_SpreadsheetID',\n",
      " 139086: 'BOT_026_FR_EmailReport',\n",
      " 139087: 'BOT_026_XX_SpreadSheetID',\n",
      " 139420: 'BOT_026_FR_EmailProducer_Test',\n",
      " 139422: 'BOT_026_FR_EmailProducer',\n",
      " 141739: 'BOT_014_ES_Query',\n",
      " 141744: 'BOT_014_FR_Query',\n",
      " 141834: 'BOT_025_DE_EmailReport',\n",
      " 141835: 'BOT_025_DE_SpreadsheetID',\n",
      " 142063: 'BOT_025_DE_EmailReport_Test',\n",
      " 142065: 'BOT_025_DE_SpreadsheetID_Test',\n",
      " 142579: 'GAccount_Bots_Ops',\n",
      " 145861: 'GSuite_OAuth',\n",
      " 147781: 'BOT_030_ES_Token',\n",
      " 148472: 'BOT_026_ES_EmailReport_Test',\n",
      " 148474: 'BOT_026_ES_QueryFromPopSQL',\n",
      " 148475: 'BOT_026_ES_EmailProducer_Test',\n",
      " 148476: 'BOT_026_ES_TOKEN',\n",
      " 148863: 'BOT_026_ES_EmailReport',\n",
      " 150847: 'BOT_028_ES_Token',\n",
      " 151035: 'BOT_026_ES_EmailProducer',\n",
      " 153087: 'S3Bucket_AccessKey',\n",
      " 153203: 'BOT_027_ES_EmailReport',\n",
      " 153204: 'BOT_027_ES_ProducerSpreadsheetID',\n",
      " 153214: 'BOT_027_ES_ConsumerSpreadsheetID',\n",
      " 153219: 'BOT_027_ES_Token',\n",
      " 153220: 'BOT_027_ES_EmailReport_Test',\n",
      " 158046: 'BOT_031_DE_EmailReport_Test',\n",
      " 158819: 'BOT_031_DE_QueryInput',\n",
      " 158820: 'BOT_031_DE_SpreadsheetID',\n",
      " 158838: 'BOT_031_DE_Token',\n",
      " 161131: 'BOT_014_UK_EmailReport',\n",
      " 161621: 'BOT_014_UK_TOKEN',\n",
      " 161644: 'BOT_027_ES_EmailReport_Global',\n",
      " 161699: 'FestiveDays',\n",
      " 166172: 'BOT_031_DE_EmailReport',\n",
      " 175740: 'BOT_034_UK_EmailReport_Test',\n",
      " 176279: 'BOT_034_UK_Token',\n",
      " 176289: 'BOT_034_UK_SpreadsheetID',\n",
      " 176290: 'BOT_034_UK_QueryFromPopSQL',\n",
      " 176527: 'GSuiteApplicationScopeEmail',\n",
      " 180319: 'BOT_034_UK_EmailReport',\n",
      " 180473: 'BOT_032_DE_SpreadSheetID',\n",
      " 180474: 'BOT_032_DE_SpreadSheetID_Test',\n",
      " 180491: 'BOT_032_DE_EmailReport',\n",
      " 180492: 'BOT_035_SE_Candidates',\n",
      " 180493: 'BOT_035_SE_Jobs',\n",
      " 180494: 'BOT_035_SE_Stages',\n",
      " 180495: 'BOT_035_SE_JobApplications',\n",
      " 180496: 'BOT_035_SE_Answers',\n",
      " 180498: 'BOT_035_SE_APIVersion',\n",
      " 180499: 'BOT_035_SE_APIAuthorization',\n",
      " 180505: 'BOT_036_FR_TOKEN',\n",
      " 180536: 'BOT_032_DE_EmailReport_Test',\n",
      " 180685: 'GSUITE_Cred_json',\n",
      " 180686: 'GSUITE_Cred_json_key',\n",
      " 181057: 'BOT_035_SE_EmailReport',\n",
      " 181058: 'BOT_035_SE_EmailReport_Test',\n",
      " 181408: 'BOT_026_ES_QueryFromPopSQL_Test',\n",
      " 181416: 'BOT_029_US_SpreadsheetProd',\n",
      " 181417: 'BOT_029_US_EmailReport',\n",
      " 181418: 'BOT_029_US_SpreadsheetID',\n",
      " 181825: 'BOT_037_SE_EmailReport',\n",
      " 181826: 'BOT_037_SE_UserLogin',\n",
      " 181832: 'BOT_037_SE_SpreadsheetID',\n",
      " 181994: 'BOT_029_US_Subscription_Key',\n",
      " 184183: 'BOT_029_US_ClientSecret',\n",
      " 186317: 'BOT_036_FR_SpreadsheetID',\n",
      " 186318: 'BOT_036_FR_EmailReport',\n",
      " 186790: 'BOT_027_ES_TokenLogin_2',\n",
      " 186793: 'BOT_027_ES_TokenLogin_3',\n",
      " 187130: 'CredentialDispatcher_Status_SpreadsheetID',\n",
      " 188178: 'BOT_014_UK_TOKEN_2',\n",
      " 188241: 'BOT_014_UK_TOKEN_3',\n",
      " 188686: 'BOT_032_Token',\n",
      " 188692: 'Google_CloudOAuth',\n",
      " 195684: 'BOT_026_ES_QueryFromPopSQLPriority',\n",
      " 195712: 'BOT_026_ES_TOKEN_2',\n",
      " 195713: 'BOT_026_ES_TOKEN_3',\n",
      " 199259: 'BOT_027_ES_SpreadsheetInput_Global',\n",
      " 199260: 'BOT_027_ES_SheetInput_Global',\n",
      " 200154: 'BOT_027_ES_TokenLogin_Global',\n",
      " 208683: 'Administrator_Mail',\n",
      " 212086: 'BOT_038_UK_TOKEN',\n",
      " 212211: 'ScreenshotFolder_Email',\n",
      " 212212: 'ScreenshotFolder_ParentID',\n",
      " 213280: 'BOT_033_ES_QuironUser',\n",
      " 213281: 'BOT_033_ES_SPMASUser',\n",
      " 213282: 'BOT_033_ES_CualtisUser',\n",
      " 214746: 'BOT_038_UK_EmailReport',\n",
      " 214747: 'BOT_038_UK_SpreadsheetID',\n",
      " 217758: 'BOT_033_ES_TOKEN',\n",
      " 217803: 'BOT_040_UK_SpreadsheetID',\n",
      " 217804: 'BOT_040_UK_EmailReport',\n",
      " 217968: 'BOT_041_UK_SpreadsheetID',\n",
      " 217978: 'BOT_041_UK_TOKEN',\n",
      " 220012: 'BOT_039_US_ClientSecret',\n",
      " 220019: 'BOT_039_US_Subscrition_Key',\n",
      " 220022: 'BOT_039_US_EmailReport',\n",
      " 220024: 'BOT_039_US_SpreadsheetID',\n",
      " 220052: 'BOT_039_US_SpreadsheetRelations',\n",
      " 220095: 'BOT_040_UK_TOKEN',\n",
      " 220480: 'BOT_041_UK_SupportMail',\n",
      " 221384: 'BOT_024.2_SuraUserName',\n",
      " 222154: 'BOT_041_UK_Mails',\n",
      " 223464: 'BOT_044_FR_EmailReport',\n",
      " 223477: 'BOT_044_FR_SpreadsheetID',\n",
      " 223623: 'BOT_044_FR_TOKEN',\n",
      " 223686: 'BOT_008_UK_ReplyAddress',\n",
      " 224885: 'BOT_042_CO_Delay',\n",
      " 224886: 'BOT_042_CO_EmailReport',\n",
      " 224887: 'BOT_042_CO_GET_SpreadsheetID',\n",
      " 224888: 'BOT_042_CO_POST_SpreadsheetID',\n",
      " 225651: 'BOT_001_ES_TokenExtension',\n",
      " 225652: 'BOT_001_ES_TokenCancellation',\n",
      " 226110: 'BOT_024.2_CO_DriveID',\n",
      " 226116: 'BOT_024.2_CO_EmailReport',\n",
      " 226119: 'BOT_024.2_CO_SpreadsheetID',\n",
      " 226544: 'BOT_042_CO_Truora_APIKey',\n",
      " 226665: 'BOT_018_CO_InputSpreadsheetID',\n",
      " 226669: 'BOT_018_CO_ReportID',\n",
      " 227516: 'BOT_046_US_EmailReport',\n",
      " 227517: 'BOT_046_US_SpreadsheetID',\n",
      " 227599: 'BOT_001_ES_SpreadsheetID',\n",
      " 228610: 'Global_OrchestratorAPI',\n",
      " 228781: 'BOT_043_US_SpreadsheetID',\n",
      " 228789: 'BOT_043_US_EmailReport',\n",
      " 228868: 'BOT_043_US_ClientSecret',\n",
      " 228887: 'BOT_043_US_Subscrition_Key',\n",
      " 231854: 'BOT_004_ES_EmailReport',\n",
      " 231855: 'BOT_004_ES_SpreadsheetID',\n",
      " 232916: 'BOT_008_UK_Email_Test',\n",
      " 232955: 'BOT_008_UK_EmailReport',\n",
      " 232956: 'BOT_008_UK_SpreadsheetID',\n",
      " 233684: 'BOT_022_DE_SpreadsheetID',\n",
      " 233926: 'BOT_005_UK_SpreadsheetID',\n",
      " 233930: 'BOT_005_UK_TOKEN',\n",
      " 235194: 'BOT_013_CO_EmailReport',\n",
      " 235195: 'BOT_013_CO_SpreadsheetID',\n",
      " 235767: 'BOT_017_UK_EmailReport',\n",
      " 240341: 'BOT_006_UK_TOKEN',\n",
      " 240394: 'BOT_020_ES_SpreadsheetID',\n",
      " 241813: 'BOT_014.2_UK_EmailReport',\n",
      " 241838: 'BOT_023_UK_SpreadsheetID',\n",
      " 243095: 'BOT_004_ES_TOKEN_2',\n",
      " 243096: 'BOT_004_ES_DispatcherGroup',\n",
      " 243531: 'BOT_006_UK_EmailReport',\n",
      " 243562: 'BOT_020_ES_TOKEN',\n",
      " 245343: 'BOT_047_US_Token',\n",
      " 246994: 'BOT_043_US_TOKEN',\n",
      " 246995: 'BOT_043_US_CSVFolder',\n",
      " 246996: 'BOT_043_US_ProducerData',\n",
      " 247321: 'BOT_043_US_SpreadsheetRelations',\n",
      " 247387: 'BOT_003_ES_EmailReport',\n",
      " 247388: 'BOT_003_FR_EmailReport',\n",
      " 247402: 'BOT_003_XX_SpreadsheetID',\n",
      " 249341: 'BOT_014_FR_SpreadsheetID',\n",
      " 249342: 'BOT_014_ES_SpreadsheetID',\n",
      " 250115: 'BOT_039_US_TOKEN',\n",
      " 250435: 'BOT_014_UK_SpreadsheetID',\n",
      " 250700: 'BOT_045_SE_Quinyx_APIKey',\n",
      " 250771: 'BOT_033_ES_EmailReport',\n",
      " 250774: 'BOT_033_ES_SpreadsheetID',\n",
      " 250916: 'BOT_033_ES_EmailNoAptos',\n",
      " 251622: 'BOT_029_US_TOKEN',\n",
      " 252883: 'BOT_014.2_UK_TOKEN',\n",
      " 255205: 'BOT_026_ES_SpreadsheetID',\n",
      " 255206: 'BOT_026_FR_SpreadsheetID',\n",
      " 255693: 'BOT_020_ES_TOKEN_2',\n",
      " 255915: 'BOT_024_CO_Regex',\n",
      " 256681: 'BOT_049_SE_SpreadsheetID',\n",
      " 256683: 'TeamTailor_Credentials',\n",
      " 256915: 'BOT_047_US_SpreadsheetID',\n",
      " 256916: 'BOT_047_US_EmailReport'}\n"
     ]
    }
   ],
   "source": [
    "assets_ids = production_folder.get_asset_ids()\n",
    "pprint(assets_ids)"
   ]
  },
  {
   "cell_type": "markdown",
   "metadata": {},
   "source": [
    "We can also get the sessions and the machine runtime sessions associated to the folder "
   ]
  },
  {
   "cell_type": "code",
   "execution_count": 15,
   "metadata": {},
   "outputs": [
    {
     "name": "stdout",
     "output_type": "stream",
     "text": [
      "1027097\n",
      "<Response [404]>\n",
      "[Errno Expecting value] : 0\n"
     ]
    }
   ],
   "source": [
    "# sessions = production_folder.get_sessions()\n",
    "machine_sessions = production_folder.get_machine_runtime_sessions()"
   ]
  }
 ],
 "metadata": {
  "interpreter": {
   "hash": "1f0df5d23114895ba46a6ac75b6c55235228d3feb7da6db5fb070c9669757f5d"
  },
  "kernelspec": {
   "display_name": "Python 3.8.3 ('env': venv)",
   "language": "python",
   "name": "python3"
  },
  "language_info": {
   "codemirror_mode": {
    "name": "ipython",
    "version": 3
   },
   "file_extension": ".py",
   "mimetype": "text/x-python",
   "name": "python",
   "nbconvert_exporter": "python",
   "pygments_lexer": "ipython3",
   "version": "3.8.3"
  },
  "orig_nbformat": 4
 },
 "nbformat": 4,
 "nbformat_minor": 2
}
