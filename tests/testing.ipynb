{
 "cells": [
  {
   "cell_type": "code",
   "execution_count": 1,
   "metadata": {},
   "outputs": [],
   "source": [
    "from orchestrator.orchestrator import Orchestrator\n",
    "from dotenv import load_dotenv\n",
    "import os\n",
    "from pprint import pprint"
   ]
  },
  {
   "cell_type": "code",
   "execution_count": 2,
   "metadata": {},
   "outputs": [],
   "source": [
    "CLIENT_ID = os.getenv('CLIENT_ID')\n",
    "REFRESH_TOKEN = os.getenv('REFRESH_TOKEN')\n",
    "TENANT_NAME = os.getenv('TENANT_NAME')\n",
    "FOLDER_ID = os.getenv('FOLDER_ID')\n",
    "QUEUE_ID = os.getenv('QUEUE_ID')\n",
    "ITEM_ID = os.getenv('ITEM_ID')\n",
    "FOLDER_PRE_ID = os.getenv('FOLDER_PRE_ID')\n",
    "PROD_FOLDER_ID = os.getenv('PROD_FOLDER_ID')"
   ]
  },
  {
   "cell_type": "code",
   "execution_count": 3,
   "metadata": {},
   "outputs": [],
   "source": [
    "client = Orchestrator(client_id = CLIENT_ID, refresh_token = REFRESH_TOKEN, tenant_name = TENANT_NAME)"
   ]
  },
  {
   "cell_type": "code",
   "execution_count": 4,
   "metadata": {},
   "outputs": [],
   "source": [
    "folders = client.get_all_folders()\n",
    "production = folders[0]\n"
   ]
  },
  {
   "cell_type": "code",
   "execution_count": 5,
   "metadata": {},
   "outputs": [
    {
     "name": "stdout",
     "output_type": "stream",
     "text": [
      "{1027097: 'Produccion', 1263510: 'Pre-produccion'}\n"
     ]
    }
   ],
   "source": [
    "ids = client.get_folder_ids()\n",
    "pprint(ids)"
   ]
  },
  {
   "cell_type": "code",
   "execution_count": 6,
   "metadata": {},
   "outputs": [
    {
     "name": "stdout",
     "output_type": "stream",
     "text": [
      "1027097\n",
      "'Produccion'\n"
     ]
    }
   ],
   "source": [
    "folder = client.get_folder_by_id(1027097)\n",
    "pprint(folder.id)\n",
    "pprint(folder.name)"
   ]
  },
  {
   "cell_type": "code",
   "execution_count": 7,
   "metadata": {},
   "outputs": [],
   "source": [
    "folder_data = folder.info()\n",
    "# pprint(folder_data)"
   ]
  },
  {
   "cell_type": "code",
   "execution_count": 8,
   "metadata": {},
   "outputs": [
    {
     "name": "stdout",
     "output_type": "stream",
     "text": [
      "41212\n",
      "'BOT_002_ES_ContractExtensions'\n"
     ]
    }
   ],
   "source": [
    "queues = folder.get_all_queues()\n",
    "queue = queues[0]\n",
    "pprint(queue.id)\n",
    "pprint(queue.name)\n",
    "# pprint(queue.info())"
   ]
  },
  {
   "cell_type": "code",
   "execution_count": 9,
   "metadata": {},
   "outputs": [
    {
     "name": "stdout",
     "output_type": "stream",
     "text": [
      "41212\n"
     ]
    }
   ],
   "source": [
    "queue = folder.get_queue_by_id(41212)\n",
    "pprint(queue.id)\n",
    "# pprint(folder.get_queue_ids())"
   ]
  },
  {
   "cell_type": "code",
   "execution_count": 10,
   "metadata": {},
   "outputs": [],
   "source": [
    "# pprint(queue.get_processing_records())"
   ]
  },
  {
   "cell_type": "code",
   "execution_count": 11,
   "metadata": {},
   "outputs": [
    {
     "name": "stdout",
     "output_type": "stream",
     "text": [
      "hey\n"
     ]
    }
   ],
   "source": [
    "items = queue.get_queue_items()"
   ]
  },
  {
   "cell_type": "code",
   "execution_count": 12,
   "metadata": {},
   "outputs": [
    {
     "name": "stdout",
     "output_type": "stream",
     "text": [
      "1027097\n",
      "<bound method QueueItem.content of <orchestrator.orchestrator.QueueItem object at 0x7fcd31643f40>>\n"
     ]
    }
   ],
   "source": [
    "item = items[0]\n",
    "pprint(item.folder_id)\n",
    "pprint(item.content)"
   ]
  },
  {
   "cell_type": "code",
   "execution_count": 13,
   "metadata": {},
   "outputs": [
    {
     "name": "stdout",
     "output_type": "stream",
     "text": [
      "hey\n"
     ]
    }
   ],
   "source": [
    "ids = queue.get_queue_items_ids()\n",
    "# pprint(ids)"
   ]
  },
  {
   "cell_type": "code",
   "execution_count": 14,
   "metadata": {},
   "outputs": [],
   "source": [
    "# pprint(item.specific_content())\n",
    "# pprint(item.last_entry())"
   ]
  },
  {
   "cell_type": "code",
   "execution_count": 15,
   "metadata": {},
   "outputs": [
    {
     "name": "stdout",
     "output_type": "stream",
     "text": [
      "hey\n"
     ]
    }
   ],
   "source": [
    "history = item.history()\n",
    "# pprint(history)"
   ]
  },
  {
   "cell_type": "code",
   "execution_count": 16,
   "metadata": {},
   "outputs": [
    {
     "name": "stdout",
     "output_type": "stream",
     "text": [
      "'BOT_002_ES_ContractExtensions'\n"
     ]
    }
   ],
   "source": [
    "new_item = queue.get_item_by_id(227888880)\n",
    "pprint(new_item.queue_name)"
   ]
  },
  {
   "cell_type": "code",
   "execution_count": 17,
   "metadata": {},
   "outputs": [
    {
     "name": "stdout",
     "output_type": "stream",
     "text": [
      "'BOT_003_XX_ContractCancellation'\n"
     ]
    }
   ],
   "source": [
    "queues = folder.get_all_queues()\n",
    "pprint(queues[1].name)"
   ]
  },
  {
   "cell_type": "code",
   "execution_count": 18,
   "metadata": {},
   "outputs": [
    {
     "name": "stdout",
     "output_type": "stream",
     "text": [
      "{'errorCode': 1101,\n",
      " 'message': 'An organization unit is required for this action.',\n",
      " 'resourceIds': None,\n",
      " 'traceId': '00-11ff0efc86aea0df23dce36fac64920b-d9c3006e3e15774b-00'}\n",
      "1027097\n"
     ]
    },
    {
     "ename": "KeyError",
     "evalue": "'value'",
     "output_type": "error",
     "traceback": [
      "\u001b[0;31m---------------------------------------------------------------------------\u001b[0m",
      "\u001b[0;31mKeyError\u001b[0m                                  Traceback (most recent call last)",
      "\u001b[1;32m/Users/alvaro/Dev/python/orchestrator-py/tests/testing.ipynb Cell 18'\u001b[0m in \u001b[0;36m<cell line: 1>\u001b[0;34m()\u001b[0m\n\u001b[0;32m----> <a href='vscode-notebook-cell:/Users/alvaro/Dev/python/orchestrator-py/tests/testing.ipynb#ch0000022?line=0'>1</a>\u001b[0m assets \u001b[39m=\u001b[39m folder\u001b[39m.\u001b[39;49mget_all_assets()\n",
      "File \u001b[0;32m~/Dev/python/orchestrator-py/src/orchestrator/orchestrator.py:244\u001b[0m, in \u001b[0;36mFolder.get_all_assets\u001b[0;34m(self, options)\u001b[0m\n\u001b[1;32m    <a href='file:///Users/alvaro/Dev/python/orchestrator-py/src/orchestrator/orchestrator.py?line=241'>242</a>\u001b[0m pprint(data)\n\u001b[1;32m    <a href='file:///Users/alvaro/Dev/python/orchestrator-py/src/orchestrator/orchestrator.py?line=242'>243</a>\u001b[0m pprint(\u001b[39mself\u001b[39m\u001b[39m.\u001b[39mid)\n\u001b[0;32m--> <a href='file:///Users/alvaro/Dev/python/orchestrator-py/src/orchestrator/orchestrator.py?line=243'>244</a>\u001b[0m filt_data \u001b[39m=\u001b[39m data[\u001b[39m'\u001b[39;49m\u001b[39mvalue\u001b[39;49m\u001b[39m'\u001b[39;49m]\n\u001b[1;32m    <a href='file:///Users/alvaro/Dev/python/orchestrator-py/src/orchestrator/orchestrator.py?line=244'>245</a>\u001b[0m \u001b[39mreturn\u001b[39;00m [Asset(\u001b[39mself\u001b[39m\u001b[39m.\u001b[39mclient_id, \u001b[39mself\u001b[39m\u001b[39m.\u001b[39mrefresh_token, \u001b[39mself\u001b[39m\u001b[39m.\u001b[39mtenant_name, \u001b[39mself\u001b[39m\u001b[39m.\u001b[39mid, \u001b[39mself\u001b[39m\u001b[39m.\u001b[39mname, \u001b[39mself\u001b[39m\u001b[39m.\u001b[39msession, asset[\u001b[39m\"\u001b[39m\u001b[39mId\u001b[39m\u001b[39m\"\u001b[39m], asset[\u001b[39m\"\u001b[39m\u001b[39mName\u001b[39m\u001b[39m\"\u001b[39m]) \u001b[39mfor\u001b[39;00m asset \u001b[39min\u001b[39;00m filt_data]\n",
      "\u001b[0;31mKeyError\u001b[0m: 'value'"
     ]
    }
   ],
   "source": [
    "assets = folder.get_all_assets()"
   ]
  }
 ],
 "metadata": {
  "interpreter": {
   "hash": "1f0df5d23114895ba46a6ac75b6c55235228d3feb7da6db5fb070c9669757f5d"
  },
  "kernelspec": {
   "display_name": "Python 3.8.3 ('env': venv)",
   "language": "python",
   "name": "python3"
  },
  "language_info": {
   "codemirror_mode": {
    "name": "ipython",
    "version": 3
   },
   "file_extension": ".py",
   "mimetype": "text/x-python",
   "name": "python",
   "nbconvert_exporter": "python",
   "pygments_lexer": "ipython3",
   "version": "3.8.3"
  },
  "orig_nbformat": 4
 },
 "nbformat": 4,
 "nbformat_minor": 2
}
