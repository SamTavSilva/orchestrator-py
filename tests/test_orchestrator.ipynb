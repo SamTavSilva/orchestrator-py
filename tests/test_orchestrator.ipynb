{
 "cells": [
  {
   "cell_type": "code",
   "execution_count": 19,
   "metadata": {},
   "outputs": [],
   "source": [
    "from orchestrator.orchestrator import Orchestrator\n",
    "from dotenv import load_dotenv\n",
    "import os\n",
    "from pprint import pprint"
   ]
  },
  {
   "cell_type": "markdown",
   "metadata": {},
   "source": [
    "First we need to load the credentials we will be using:"
   ]
  },
  {
   "cell_type": "code",
   "execution_count": 20,
   "metadata": {},
   "outputs": [],
   "source": [
    "CLIENT_ID = os.getenv('CLIENT_ID')\n",
    "REFRESH_TOKEN = os.getenv('REFRESH_TOKEN')\n",
    "TENANT_NAME = os.getenv('TENANT_NAME')"
   ]
  },
  {
   "cell_type": "markdown",
   "metadata": {},
   "source": [
    "Now we load the credentials into the `Orchestrator` class we have imported."
   ]
  },
  {
   "cell_type": "code",
   "execution_count": 21,
   "metadata": {},
   "outputs": [],
   "source": [
    "client = Orchestrator(client_id = CLIENT_ID, refresh_token = REFRESH_TOKEN, tenant_name = TENANT_NAME)"
   ]
  },
  {
   "cell_type": "markdown",
   "metadata": {},
   "source": [
    "We can access the folders in different ways:\n",
    "\n",
    "    - By folder_id: using the method get_folder_by_id and passing the folder id as a parameter. \n",
    "    - By folder_name: using the method get_folder_by_name and passing the folder name as parameter. \n",
    "    - By index: Getting all folders using the get_all_folders method and accessing them individually by their index."
   ]
  },
  {
   "cell_type": "code",
   "execution_count": 22,
   "metadata": {},
   "outputs": [
    {
     "name": "stdout",
     "output_type": "stream",
     "text": [
      "None\n",
      "https://cloud.uipath.com/jobanyucdsvu/JTBOT/odata/Folders\n",
      "<Response [200]>\n",
      "<class 'orchestrator.orchestrator_folder.Folder'>\n",
      "1027097\n",
      "Produccion\n"
     ]
    }
   ],
   "source": [
    "lst_folders = client.get_all_folders()\n",
    "folder = lst_folders[0]\n",
    "print(type(folder))\n",
    "print(folder.id)\n",
    "print(folder.name)"
   ]
  },
  {
   "cell_type": "markdown",
   "metadata": {},
   "source": [
    "We can also filter by giving certain odata parameters:"
   ]
  },
  {
   "cell_type": "code",
   "execution_count": null,
   "metadata": {},
   "outputs": [],
   "source": [
    "options= {\n",
    "    \"$orderby\" : \"DisplayName\"\n",
    "}\n",
    "filt_folders = client.get_all_folders(options = options)\n",
    "filt_folder = filt_folders[0]\n",
    "print(filt_folder.id)\n",
    "print(filt_folder.name)"
   ]
  },
  {
   "cell_type": "code",
   "execution_count": null,
   "metadata": {},
   "outputs": [],
   "source": [
    "production_folder = client.get_folder_by_id(1027097)\n",
    "print(production_folder.id)\n",
    "print(production_folder.name)"
   ]
  },
  {
   "cell_type": "markdown",
   "metadata": {},
   "source": [
    "We can also get a dictionary with the folder ids as keys and their corresponding names as values."
   ]
  },
  {
   "cell_type": "code",
   "execution_count": null,
   "metadata": {},
   "outputs": [],
   "source": [
    "folder_ids = client.get_folder_ids()\n",
    "pprint(folder_ids)"
   ]
  },
  {
   "cell_type": "markdown",
   "metadata": {},
   "source": [
    "We can get all the processes"
   ]
  },
  {
   "cell_type": "code",
   "execution_count": null,
   "metadata": {},
   "outputs": [],
   "source": [
    "processes = client.get_all_processes()"
   ]
  },
  {
   "cell_type": "code",
   "execution_count": null,
   "metadata": {},
   "outputs": [],
   "source": [
    "process = processes[3]\n",
    "print(process)\n",
    "print(type(process))"
   ]
  },
  {
   "cell_type": "markdown",
   "metadata": {},
   "source": [
    "We can get a dictionary containing the process keys and their titles using the `get_process_keys` method"
   ]
  },
  {
   "cell_type": "code",
   "execution_count": null,
   "metadata": {},
   "outputs": [],
   "source": [
    "process_keys = client.get_processes_keys()\n",
    "# pprint(process_keys)"
   ]
  },
  {
   "cell_type": "markdown",
   "metadata": {},
   "source": [
    "And we can use those keys to access a specific process with its corresponding version"
   ]
  },
  {
   "cell_type": "code",
   "execution_count": null,
   "metadata": {},
   "outputs": [],
   "source": [
    "process_by_key = client.get_process_by_key(\"BOT_001.CONSUMER:1.1.9'\")"
   ]
  }
 ],
 "metadata": {
  "interpreter": {
   "hash": "1f0df5d23114895ba46a6ac75b6c55235228d3feb7da6db5fb070c9669757f5d"
  },
  "kernelspec": {
   "display_name": "Python 3.8.3 ('env': venv)",
   "language": "python",
   "name": "python3"
  },
  "language_info": {
   "codemirror_mode": {
    "name": "ipython",
    "version": 3
   },
   "file_extension": ".py",
   "mimetype": "text/x-python",
   "name": "python",
   "nbconvert_exporter": "python",
   "pygments_lexer": "ipython3",
   "version": "3.8.3"
  },
  "orig_nbformat": 4
 },
 "nbformat": 4,
 "nbformat_minor": 2
}
