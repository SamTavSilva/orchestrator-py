{
 "cells": [
  {
   "cell_type": "code",
   "execution_count": 1,
   "metadata": {},
   "outputs": [],
   "source": [
    "from orchestrator.orchestrator import Orchestrator\n",
    "from dotenv import load_dotenv\n",
    "import os\n",
    "from pprint import pprint"
   ]
  },
  {
   "cell_type": "code",
   "execution_count": 2,
   "metadata": {},
   "outputs": [],
   "source": [
    "CLIENT_ID = os.getenv('CLIENT_ID')\n",
    "REFRESH_TOKEN = os.getenv('REFRESH_TOKEN')\n",
    "TENANT_NAME = os.getenv('TENANT_NAME')"
   ]
  },
  {
   "cell_type": "code",
   "execution_count": 3,
   "metadata": {},
   "outputs": [],
   "source": [
    "client = Orchestrator(client_id = CLIENT_ID, refresh_token = REFRESH_TOKEN, tenant_name = TENANT_NAME)"
   ]
  },
  {
   "cell_type": "code",
   "execution_count": 67,
   "metadata": {},
   "outputs": [
    {
     "name": "stdout",
     "output_type": "stream",
     "text": [
      "1027097\n",
      "1027097\n"
     ]
    }
   ],
   "source": [
    "process = client.get_folder_by_id(1027097).get_process_schedules()[35]"
   ]
  },
  {
   "cell_type": "code",
   "execution_count": 68,
   "metadata": {},
   "outputs": [
    {
     "name": "stdout",
     "output_type": "stream",
     "text": [
      "BOT_017_UK_PQ -- 46611\n"
     ]
    }
   ],
   "source": [
    "print(f\"{process.name} -- {process.id}\")"
   ]
  },
  {
   "cell_type": "code",
   "execution_count": 69,
   "metadata": {},
   "outputs": [
    {
     "name": "stdout",
     "output_type": "stream",
     "text": [
      "Schedule Id: 46611 \n",
      "Name: BOT_017_UK_PQ\n"
     ]
    }
   ],
   "source": [
    "print(process)"
   ]
  },
  {
   "cell_type": "code",
   "execution_count": 70,
   "metadata": {},
   "outputs": [
    {
     "name": "stdout",
     "output_type": "stream",
     "text": [
      "1027097\n",
      "{'@odata.context': 'https://cloud.uipath.com/jobanyucdsvu/JTBOT/orchestrator_/odata/$metadata#ProcessSchedules/$entity', 'Key': 'a107ab2e-8719-45c0-adcd-08d1339ffc1e', 'Enabled': True, 'Name': 'BOT_017_UK_PQ', 'ReleaseId': 110677, 'ReleaseKey': 'ba275c4d-a68f-4a33-b4b5-ba7d5c5263a0', 'ReleaseName': 'BOT_017_UK_PQ_ClientDemandGathering', 'PackageName': 'BOT_017_UK_PQ_ClientDemandGathering', 'EnvironmentName': None, 'EnvironmentId': '', 'JobPriority': None, 'SpecificPriorityValue': None, 'RuntimeType': 'Unattended', 'StartProcessCron': '0 0 16 1/1 * ? *', 'StartProcessCronDetails': '{\"type\":2,\"minutely\":{},\"hourly\":{},\"daily\":{\"atHour\":\"16\",\"atMinute\":0},\"weekly\":{\"weekdays\":[]},\"monthly\":{\"weekdays\":[]},\"advancedCronExpression\":\"\"}', 'StartProcessCronSummary': None, 'StartProcessNextOccurrence': None, 'StartStrategy': 1, 'StopProcessExpression': '', 'StopStrategy': None, 'KillProcessExpression': None, 'ExternalJobKey': '847abef4-59b9-4a1a-ad1d-ca26404a3532', 'ExternalJobKeyScheduler': None, 'TimeZoneId': 'Romance Standard Time', 'TimeZoneIana': 'Europe/Paris', 'UseCalendar': False, 'CalendarId': None, 'CalendarName': None, 'StopProcessDate': None, 'InputArguments': None, 'QueueDefinitionId': None, 'QueueDefinitionName': None, 'ItemsActivationThreshold': 1, 'ItemsPerJobActivationTarget': 1, 'MaxJobsForActivation': 2, 'ResumeOnSameContext': False, 'Description': None, 'Id': 46611, 'MachineRobots': [], 'Tags': []}\n"
     ]
    }
   ],
   "source": [
    "info = process.info()\n",
    "print(info)"
   ]
  }
 ],
 "metadata": {
  "interpreter": {
   "hash": "1f0df5d23114895ba46a6ac75b6c55235228d3feb7da6db5fb070c9669757f5d"
  },
  "kernelspec": {
   "display_name": "Python 3.8.3 ('env': venv)",
   "language": "python",
   "name": "python3"
  },
  "language_info": {
   "codemirror_mode": {
    "name": "ipython",
    "version": 3
   },
   "file_extension": ".py",
   "mimetype": "text/x-python",
   "name": "python",
   "nbconvert_exporter": "python",
   "pygments_lexer": "ipython3",
   "version": "3.8.3"
  },
  "orig_nbformat": 4
 },
 "nbformat": 4,
 "nbformat_minor": 2
}
