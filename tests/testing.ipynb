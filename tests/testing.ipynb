{
 "cells": [
  {
   "cell_type": "code",
   "execution_count": 1,
   "metadata": {},
   "outputs": [],
   "source": [
    "from orchestrator.orchestrator import Orchestrator\n",
    "from dotenv import load_dotenv\n",
    "import os\n",
    "from pprint import pprint"
   ]
  },
  {
   "cell_type": "code",
   "execution_count": 2,
   "metadata": {},
   "outputs": [],
   "source": [
    "CLIENT_ID = os.getenv('CLIENT_ID')\n",
    "REFRESH_TOKEN = os.getenv('REFRESH_TOKEN')\n",
    "TENANT_NAME = os.getenv('TENANT_NAME')\n",
    "FOLDER_ID = os.getenv('FOLDER_ID')\n",
    "QUEUE_ID = os.getenv('QUEUE_ID')\n",
    "ITEM_ID = os.getenv('ITEM_ID')\n",
    "FOLDER_PRE_ID = os.getenv('FOLDER_PRE_ID')\n",
    "PROD_FOLDER_ID = os.getenv('PROD_FOLDER_ID')"
   ]
  },
  {
   "cell_type": "markdown",
   "metadata": {},
   "source": [
    "First we need to create a client, we do this using the `Orchestrator` classm which takes as arguments the client id, a refresh token and the tenant name, plus an additional optional argument of a folder id."
   ]
  },
  {
   "cell_type": "code",
   "execution_count": 3,
   "metadata": {},
   "outputs": [],
   "source": [
    "client = Orchestrator(client_id = CLIENT_ID, refresh_token = REFRESH_TOKEN, tenant_name = TENANT_NAME)"
   ]
  },
  {
   "cell_type": "markdown",
   "metadata": {},
   "source": [
    "`client` contains a number of methods. For example, we can get all the folders, which returns a list of `Folders`."
   ]
  },
  {
   "cell_type": "code",
   "execution_count": 4,
   "metadata": {},
   "outputs": [
    {
     "name": "stdout",
     "output_type": "stream",
     "text": [
      "None\n"
     ]
    }
   ],
   "source": [
    "folders = client.get_all_folders()\n",
    "\n"
   ]
  },
  {
   "cell_type": "markdown",
   "metadata": {},
   "source": [
    "`folders` is a list"
   ]
  },
  {
   "cell_type": "code",
   "execution_count": 5,
   "metadata": {},
   "outputs": [
    {
     "name": "stdout",
     "output_type": "stream",
     "text": [
      "<class 'list'>\n",
      "2\n"
     ]
    }
   ],
   "source": [
    "print(type(folders))\n",
    "print(len(folders))"
   ]
  },
  {
   "cell_type": "markdown",
   "metadata": {},
   "source": [
    "We can access an individual object and check its properties. "
   ]
  },
  {
   "cell_type": "code",
   "execution_count": 6,
   "metadata": {},
   "outputs": [
    {
     "name": "stdout",
     "output_type": "stream",
     "text": [
      "Produccion\n",
      "1027097\n"
     ]
    }
   ],
   "source": [
    "folder = folders[0]\n",
    "print(folder.name)\n",
    "print(folder.id)"
   ]
  },
  {
   "cell_type": "markdown",
   "metadata": {},
   "source": [
    "We can also check more in depth information about the folder using the `info()` method"
   ]
  },
  {
   "cell_type": "code",
   "execution_count": 7,
   "metadata": {},
   "outputs": [
    {
     "name": "stdout",
     "output_type": "stream",
     "text": [
      "1027097\n",
      "{'@odata.context': 'https://cloud.uipath.com/jobanyucdsvu/JTBOT/orchestrator_/odata/$metadata#Folders/$entity', 'Key': 'cbe0ef9a-a628-40bf-8580-44c3a4360330', 'DisplayName': 'Produccion', 'FullyQualifiedName': 'Produccion', 'FullyQualifiedNameOrderable': 'Produccion', 'Description': None, 'ProvisionType': 'Automatic', 'PermissionModel': 'FineGrained', 'ParentId': None, 'ParentKey': None, 'IsActive': True, 'FeedType': 'Processes', 'Id': 1027097}\n"
     ]
    }
   ],
   "source": [
    "folder_info = folder.info()\n",
    "print(folder_info)"
   ]
  },
  {
   "cell_type": "markdown",
   "metadata": {},
   "source": [
    "We can also open a folder by id directly from the `client` object:"
   ]
  },
  {
   "cell_type": "code",
   "execution_count": null,
   "metadata": {},
   "outputs": [],
   "source": [
    "production_folder = client.get_folder_by_id(1027097)"
   ]
  },
  {
   "cell_type": "markdown",
   "metadata": {},
   "source": [
    "Given a folder, we can access information on the assets of that given folder using the `get_all_assets` method"
   ]
  },
  {
   "cell_type": "code",
   "execution_count": null,
   "metadata": {},
   "outputs": [],
   "source": [
    "assets = production_folder.get_all_assets()"
   ]
  },
  {
   "cell_type": "code",
   "execution_count": null,
   "metadata": {},
   "outputs": [],
   "source": [
    "print(type(assets))\n",
    "asset = assets[0]\n",
    "print(type(asset))"
   ]
  },
  {
   "cell_type": "markdown",
   "metadata": {},
   "source": [
    "For an individual asset, we can request more information about it using the `info()` method:"
   ]
  },
  {
   "cell_type": "code",
   "execution_count": null,
   "metadata": {},
   "outputs": [],
   "source": [
    "asset_info = asset.info()\n",
    "# pprint(asset_info)"
   ]
  },
  {
   "cell_type": "markdown",
   "metadata": {},
   "source": [
    "To get a dictionary containing the ids of all the assets in a given folder, we use the `get_asset_ids` method from the `Folder` class."
   ]
  },
  {
   "cell_type": "code",
   "execution_count": null,
   "metadata": {},
   "outputs": [],
   "source": [
    "asset_ids = production_folder.get_asset_ids()\n",
    "# pprint(asset_ids)"
   ]
  },
  {
   "cell_type": "markdown",
   "metadata": {},
   "source": [
    "If we want to access a specific asset by id we can do that with the `get_asset_by_id` method"
   ]
  },
  {
   "cell_type": "code",
   "execution_count": null,
   "metadata": {},
   "outputs": [],
   "source": [
    "asset = production_folder.get_asset_by_id(97208)\n",
    "# pprint(asset.info())\n"
   ]
  },
  {
   "cell_type": "markdown",
   "metadata": {},
   "source": [
    "We can also access the queues of a given folder using the `get_all_queues` method of the `Folder` class"
   ]
  },
  {
   "cell_type": "code",
   "execution_count": null,
   "metadata": {},
   "outputs": [],
   "source": [
    "queues = production_folder.get_all_queues()"
   ]
  },
  {
   "cell_type": "code",
   "execution_count": null,
   "metadata": {},
   "outputs": [],
   "source": [
    "queue = queues[0]\n",
    "print(type(queue))\n"
   ]
  },
  {
   "cell_type": "markdown",
   "metadata": {},
   "source": [
    "A queue object has an id an a name as attributes, as well as an `info()` method to get more informatino out of it."
   ]
  },
  {
   "cell_type": "code",
   "execution_count": null,
   "metadata": {},
   "outputs": [],
   "source": [
    "print(queue.name)\n",
    "print(queue.id)\n",
    "print(queue.info())"
   ]
  },
  {
   "cell_type": "markdown",
   "metadata": {},
   "source": [
    "If we want to know the queue ids of a specific folder, we can get a dictionary of key balue pairs where keys are queue ids and values are the queue names'"
   ]
  },
  {
   "cell_type": "code",
   "execution_count": null,
   "metadata": {},
   "outputs": [],
   "source": [
    "queue_ids = production_folder.get_queue_ids()\n",
    "pprint(queue_ids)"
   ]
  },
  {
   "cell_type": "markdown",
   "metadata": {},
   "source": [
    "To access a specific queue we can specify its id an use the method `get_queue_by_id` to access that specific queue."
   ]
  },
  {
   "cell_type": "code",
   "execution_count": null,
   "metadata": {},
   "outputs": [],
   "source": [
    "queue = production_folder.get_queue_by_id(50184)\n",
    "print(queue.name)\n",
    "print(queue.id)"
   ]
  },
  {
   "cell_type": "markdown",
   "metadata": {},
   "source": [
    "To access the processing records of a single queue we use the `get_processing_records` method"
   ]
  },
  {
   "cell_type": "code",
   "execution_count": null,
   "metadata": {},
   "outputs": [],
   "source": [
    "records = queue.get_processing_records()\n",
    "print(len(records))"
   ]
  },
  {
   "cell_type": "markdown",
   "metadata": {},
   "source": [
    "To get a list of the processing records from the last number of days we specify it as a parameter"
   ]
  },
  {
   "cell_type": "code",
   "execution_count": null,
   "metadata": {},
   "outputs": [],
   "source": [
    "records_date = queue.get_processing_records(num_days = 2)\n"
   ]
  },
  {
   "cell_type": "markdown",
   "metadata": {},
   "source": [
    "We can also access the queue items of a single queue"
   ]
  },
  {
   "cell_type": "code",
   "execution_count": null,
   "metadata": {},
   "outputs": [],
   "source": [
    "queue_items = queue.get_queue_items()\n",
    "print(len(queue_items))"
   ]
  },
  {
   "cell_type": "code",
   "execution_count": null,
   "metadata": {},
   "outputs": [],
   "source": [
    "queue_item = queue_items[0]\n",
    "print(type(queue_item))\n",
    "pprint(queue_item.info())"
   ]
  },
  {
   "cell_type": "markdown",
   "metadata": {},
   "source": [
    "We can get information more specific about the queue item as well as its specific content attribute"
   ]
  },
  {
   "cell_type": "code",
   "execution_count": null,
   "metadata": {},
   "outputs": [],
   "source": [
    "queue_item_info = queue_item.info()\n",
    "queue_item_content = queue_item.content()\n",
    "pprint(queue_item_info)\n",
    "pprint(queue_item_content)\n"
   ]
  }
 ],
 "metadata": {
  "interpreter": {
   "hash": "1f0df5d23114895ba46a6ac75b6c55235228d3feb7da6db5fb070c9669757f5d"
  },
  "kernelspec": {
   "display_name": "Python 3.8.3 ('env': venv)",
   "language": "python",
   "name": "python3"
  },
  "language_info": {
   "codemirror_mode": {
    "name": "ipython",
    "version": 3
   },
   "file_extension": ".py",
   "mimetype": "text/x-python",
   "name": "python",
   "nbconvert_exporter": "python",
   "pygments_lexer": "ipython3",
   "version": "3.8.3"
  },
  "orig_nbformat": 4
 },
 "nbformat": 4,
 "nbformat_minor": 2
}
